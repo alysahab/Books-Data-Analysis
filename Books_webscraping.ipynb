{
 "cells": [
  {
   "cell_type": "code",
   "execution_count": 1,
   "id": "dd65e96b-16c4-4fe5-ac4e-0bb7dd07ab44",
   "metadata": {},
   "outputs": [],
   "source": [
    "import requests\n",
    "import pandas as pd\n",
    "from bs4 import BeautifulSoup"
   ]
  },
  {
   "cell_type": "code",
   "execution_count": 2,
   "id": "d5af72b6-5044-40e0-8434-5350ef30a8d1",
   "metadata": {},
   "outputs": [
    {
     "data": {
      "text/plain": [
       "<Response [200]>"
      ]
     },
     "execution_count": 2,
     "metadata": {},
     "output_type": "execute_result"
    }
   ],
   "source": [
    "response =  requests.get('https://books.toscrape.com/catalogue/page-1.html')\n",
    "response"
   ]
  },
  {
   "cell_type": "code",
   "execution_count": 3,
   "id": "c9c15180-1203-4c60-a070-38d339809ecc",
   "metadata": {},
   "outputs": [],
   "source": [
    "response = response.content"
   ]
  },
  {
   "cell_type": "code",
   "execution_count": 4,
   "id": "fa0c6225-3ef0-4f40-a814-a2f05a2e6800",
   "metadata": {},
   "outputs": [],
   "source": [
    "html = BeautifulSoup(response,'html.parser')"
   ]
  },
  {
   "cell_type": "code",
   "execution_count": 5,
   "id": "da8de17e-6540-4aee-87f2-d3c4923b3eb2",
   "metadata": {},
   "outputs": [],
   "source": [
    "ol = html.find('ol')"
   ]
  },
  {
   "cell_type": "code",
   "execution_count": 6,
   "id": "94ea954b-962c-4382-b0ec-35ddc0970682",
   "metadata": {},
   "outputs": [],
   "source": [
    "articles = ol.find_all('article',class_='product_pod')"
   ]
  },
  {
   "cell_type": "code",
   "execution_count": 7,
   "id": "fb786fdf-dc4c-4b07-991d-8788600ea140",
   "metadata": {},
   "outputs": [
    {
     "data": {
      "text/plain": [
       "[['A Light in the Attic', 51.77, 'Three'],\n",
       " ['Tipping the Velvet', 53.74, 'One'],\n",
       " ['Soumission', 50.1, 'One'],\n",
       " ['Sharp Objects', 47.82, 'Four'],\n",
       " ['Sapiens: A Brief History of Humankind', 54.23, 'Five'],\n",
       " ['The Requiem Red', 22.65, 'One'],\n",
       " ['The Dirty Little Secrets of Getting Your Dream Job', 33.34, 'Four'],\n",
       " ['The Coming Woman: A Novel Based on the Life of the Infamous Feminist, Victoria Woodhull',\n",
       "  17.93,\n",
       "  'Three'],\n",
       " ['The Boys in the Boat: Nine Americans and Their Epic Quest for Gold at the 1936 Berlin Olympics',\n",
       "  22.6,\n",
       "  'Four'],\n",
       " ['The Black Maria', 52.15, 'One'],\n",
       " ['Starving Hearts (Triangular Trade Trilogy, #1)', 13.99, 'Two'],\n",
       " [\"Shakespeare's Sonnets\", 20.66, 'Four'],\n",
       " ['Set Me Free', 17.46, 'Five'],\n",
       " [\"Scott Pilgrim's Precious Little Life (Scott Pilgrim #1)\", 52.29, 'Five'],\n",
       " ['Rip it Up and Start Again', 35.02, 'Five'],\n",
       " ['Our Band Could Be Your Life: Scenes from the American Indie Underground, 1981-1991',\n",
       "  57.25,\n",
       "  'Three'],\n",
       " ['Olio', 23.88, 'One'],\n",
       " ['Mesaerion: The Best Science Fiction Stories 1800-1849', 37.59, 'One'],\n",
       " ['Libertarianism for Beginners', 51.33, 'Two'],\n",
       " [\"It's Only the Himalayas\", 45.17, 'Two']]"
      ]
     },
     "execution_count": 7,
     "metadata": {},
     "output_type": "execute_result"
    }
   ],
   "source": [
    "# Extract first page data\n",
    "\n",
    "books = []\n",
    "for art in articles:\n",
    "    image = art.find('img')\n",
    "    title = image.attrs['alt']\n",
    "    star = art.find('p')\n",
    "    star = star['class'][1] # 2nd index data\n",
    "    price = art.find('p',class_='price_color').text # only text inside p tag\n",
    "    price = price[1:] # only number, exclude (pound symbol)\n",
    "    price = float(price)\n",
    "    books.append([title,price,star])\n",
    "books"
   ]
  },
  {
   "cell_type": "code",
   "execution_count": 8,
   "id": "4cc336a5-5b9c-4596-9490-9a49b3d56667",
   "metadata": {},
   "outputs": [],
   "source": [
    "# Extract all pages data \n",
    "\n",
    "books = []\n",
    "\n",
    "# there are 50 pages\n",
    "\n",
    "for i in range(1,51):\n",
    "    response =  requests.get(f'https://books.toscrape.com/catalogue/page-{i}.html')\n",
    "    response = response.content\n",
    "    html = BeautifulSoup(response,'html.parser')\n",
    "    ol = html.find('ol')\n",
    "    articles = ol.find_all('article',class_='product_pod')\n",
    "    \n",
    "    for art in articles:\n",
    "        image = art.find('img')\n",
    "        title = image.attrs['alt']\n",
    "        star = art.find('p')\n",
    "        star = star['class'][1]\n",
    "        price = art.find('p',class_='price_color').text\n",
    "        price = price[1:]\n",
    "        price = float(price)\n",
    "        books.append([title,price,star])"
   ]
  },
  {
   "cell_type": "code",
   "execution_count": 10,
   "id": "959ab8ed-12bc-43f3-bb2f-e87c3a3bfeb2",
   "metadata": {},
   "outputs": [],
   "source": [
    "df = pd.DataFrame(data=books, columns=['Book_Title','Price','Rating_Star'])"
   ]
  },
  {
   "cell_type": "code",
   "execution_count": 14,
   "id": "20f11bdc-d62f-4fc0-a399-ce1f8078f5d1",
   "metadata": {},
   "outputs": [
    {
     "data": {
      "text/html": [
       "<div>\n",
       "<style scoped>\n",
       "    .dataframe tbody tr th:only-of-type {\n",
       "        vertical-align: middle;\n",
       "    }\n",
       "\n",
       "    .dataframe tbody tr th {\n",
       "        vertical-align: top;\n",
       "    }\n",
       "\n",
       "    .dataframe thead th {\n",
       "        text-align: right;\n",
       "    }\n",
       "</style>\n",
       "<table border=\"1\" class=\"dataframe\">\n",
       "  <thead>\n",
       "    <tr style=\"text-align: right;\">\n",
       "      <th></th>\n",
       "      <th>Book_Title</th>\n",
       "      <th>Price</th>\n",
       "      <th>Rating_Star</th>\n",
       "    </tr>\n",
       "  </thead>\n",
       "  <tbody>\n",
       "    <tr>\n",
       "      <th>0</th>\n",
       "      <td>A Light in the Attic</td>\n",
       "      <td>51.77</td>\n",
       "      <td>Three</td>\n",
       "    </tr>\n",
       "    <tr>\n",
       "      <th>1</th>\n",
       "      <td>Tipping the Velvet</td>\n",
       "      <td>53.74</td>\n",
       "      <td>One</td>\n",
       "    </tr>\n",
       "    <tr>\n",
       "      <th>2</th>\n",
       "      <td>Soumission</td>\n",
       "      <td>50.10</td>\n",
       "      <td>One</td>\n",
       "    </tr>\n",
       "    <tr>\n",
       "      <th>3</th>\n",
       "      <td>Sharp Objects</td>\n",
       "      <td>47.82</td>\n",
       "      <td>Four</td>\n",
       "    </tr>\n",
       "    <tr>\n",
       "      <th>4</th>\n",
       "      <td>Sapiens: A Brief History of Humankind</td>\n",
       "      <td>54.23</td>\n",
       "      <td>Five</td>\n",
       "    </tr>\n",
       "  </tbody>\n",
       "</table>\n",
       "</div>"
      ],
      "text/plain": [
       "                              Book_Title  Price Rating_Star\n",
       "0                   A Light in the Attic  51.77       Three\n",
       "1                     Tipping the Velvet  53.74         One\n",
       "2                             Soumission  50.10         One\n",
       "3                          Sharp Objects  47.82        Four\n",
       "4  Sapiens: A Brief History of Humankind  54.23        Five"
      ]
     },
     "execution_count": 14,
     "metadata": {},
     "output_type": "execute_result"
    }
   ],
   "source": [
    "df.head()"
   ]
  },
  {
   "cell_type": "code",
   "execution_count": 12,
   "id": "e4495607-e4c1-4e02-9a93-b358f8d2ff0e",
   "metadata": {},
   "outputs": [],
   "source": [
    "# export data as csv to my device\n",
    "\n",
    "df.to_excel(r'C:\\Users\\aly98\\Desktop\\DS Projects\\Scrap web Data\\Books_data.xlsx',index=False)"
   ]
  },
  {
   "cell_type": "code",
   "execution_count": 13,
   "id": "24799bbd-edd7-49e6-9593-67e9be8659ba",
   "metadata": {},
   "outputs": [
    {
     "data": {
      "text/html": [
       "<div>\n",
       "<style scoped>\n",
       "    .dataframe tbody tr th:only-of-type {\n",
       "        vertical-align: middle;\n",
       "    }\n",
       "\n",
       "    .dataframe tbody tr th {\n",
       "        vertical-align: top;\n",
       "    }\n",
       "\n",
       "    .dataframe thead th {\n",
       "        text-align: right;\n",
       "    }\n",
       "</style>\n",
       "<table border=\"1\" class=\"dataframe\">\n",
       "  <thead>\n",
       "    <tr style=\"text-align: right;\">\n",
       "      <th></th>\n",
       "      <th>Book_Title</th>\n",
       "      <th>Price</th>\n",
       "      <th>Rating_Star</th>\n",
       "    </tr>\n",
       "  </thead>\n",
       "  <tbody>\n",
       "    <tr>\n",
       "      <th>0</th>\n",
       "      <td>A Light in the Attic</td>\n",
       "      <td>51.77</td>\n",
       "      <td>Three</td>\n",
       "    </tr>\n",
       "    <tr>\n",
       "      <th>1</th>\n",
       "      <td>Tipping the Velvet</td>\n",
       "      <td>53.74</td>\n",
       "      <td>One</td>\n",
       "    </tr>\n",
       "    <tr>\n",
       "      <th>2</th>\n",
       "      <td>Soumission</td>\n",
       "      <td>50.10</td>\n",
       "      <td>One</td>\n",
       "    </tr>\n",
       "    <tr>\n",
       "      <th>3</th>\n",
       "      <td>Sharp Objects</td>\n",
       "      <td>47.82</td>\n",
       "      <td>Four</td>\n",
       "    </tr>\n",
       "    <tr>\n",
       "      <th>4</th>\n",
       "      <td>Sapiens: A Brief History of Humankind</td>\n",
       "      <td>54.23</td>\n",
       "      <td>Five</td>\n",
       "    </tr>\n",
       "  </tbody>\n",
       "</table>\n",
       "</div>"
      ],
      "text/plain": [
       "                              Book_Title  Price Rating_Star\n",
       "0                   A Light in the Attic  51.77       Three\n",
       "1                     Tipping the Velvet  53.74         One\n",
       "2                             Soumission  50.10         One\n",
       "3                          Sharp Objects  47.82        Four\n",
       "4  Sapiens: A Brief History of Humankind  54.23        Five"
      ]
     },
     "execution_count": 13,
     "metadata": {},
     "output_type": "execute_result"
    }
   ],
   "source": [
    "# Importing Data from my device which is saved\n",
    "\n",
    "data = pd.read_excel(r\"C:\\Users\\aly98\\Desktop\\DS Projects\\Scrap web Data\\Books_data.xlsx\")\n",
    "data.head()"
   ]
  }
 ],
 "metadata": {
  "kernelspec": {
   "display_name": "Python 3 (ipykernel)",
   "language": "python",
   "name": "python3"
  },
  "language_info": {
   "codemirror_mode": {
    "name": "ipython",
    "version": 3
   },
   "file_extension": ".py",
   "mimetype": "text/x-python",
   "name": "python",
   "nbconvert_exporter": "python",
   "pygments_lexer": "ipython3",
   "version": "3.11.7"
  }
 },
 "nbformat": 4,
 "nbformat_minor": 5
}
